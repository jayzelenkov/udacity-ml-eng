{
 "cells": [
  {
   "cell_type": "markdown",
   "metadata": {},
   "source": [
    "## Titanic Survival"
   ]
  },
  {
   "cell_type": "code",
   "execution_count": 1,
   "metadata": {
    "scrolled": true
   },
   "outputs": [
    {
     "name": "stdout",
     "output_type": "stream",
     "text": [
      "   PassengerId  Survived\n",
      "0          892         0\n",
      "1          893         0\n",
      "2          894         0\n",
      "3          895         0\n",
      "4          896         0\n"
     ]
    }
   ],
   "source": [
    "# Import libraries necessary for this project\n",
    "import math\n",
    "import numpy as np\n",
    "import pandas as pd\n",
    "from IPython.display import display # Allows the use of display() for DataFrames\n",
    "\n",
    "# Import supplementary visualizations code visuals.py\n",
    "import ex01_visuals as vs\n",
    "\n",
    "# Pretty display for notebooks\n",
    "%matplotlib inline\n",
    "\n",
    "train_file = 'ex01_titanic_train.csv'\n",
    "test_file = 'ex01_titanic_test.csv'\n",
    "full_data = pd.read_csv(train_file)\n",
    "test_data = pd.read_csv(test_file)\n",
    "\n",
    "# Print the first few entries of the RMS Titanic data\n",
    "#display(full_data.head())\n",
    "\n",
    "outcomes = full_data['Survived']\n",
    "#display(outcomes)\n",
    "data = full_data.drop('Survived', axis=1)\n",
    "\n",
    "#display(data.head())\n",
    "\n",
    "def accuracy_score(truth, pred):\n",
    "    \"\"\" Returns accuracy score for input thuth and predictions.\"\"\"\n",
    "    \n",
    "    if len(truth) == len(pred):\n",
    "        # Calculate and return the accuracy as a percent\n",
    "        return \"Predictions have an accuracy of: {:.2f}%.\".format((truth == pred).mean() * 100)\n",
    "    else:\n",
    "        return \"Number of predictions does not match number of outcomes!\"\n",
    "    \n",
    "# predictions = pd.Series(np.ones(5, dtype = int))\n",
    "# print(accuracy_score(outcomes[:5], predictions))\n",
    "\n",
    "\n",
    "def predictions_3(data):\n",
    "    \"\"\" Model with multiple features. Makes a prediction with an accuracy of at least 80%. \"\"\"\n",
    "    \n",
    "    predictions = []\n",
    "    for _, passenger in data.iterrows():\n",
    "        pass_id = passenger['PassengerId']\n",
    "        survived = 0\n",
    "        # Predict female under age of 18 in all classes survived.\n",
    "        if passenger['Sex'] == 'female' and passenger['Age'] < 18:\n",
    "            # predictions.append(1)\n",
    "            survived = 1\n",
    "        # Predict female age 18 and older in 1st and 2nd class survived.\n",
    "        elif passenger['Sex'] == 'female' and passenger['Pclass'] < 3:\n",
    "            # predictions.append(1)\n",
    "            survived = 1\n",
    "        # Predict male under 18 years in 1st and 2nd class survived.\n",
    "        elif passenger['Sex'] == 'male' and passenger['Age'] < 18 and passenger['Pclass'] < 3:\n",
    "            # predictions.append(1)\n",
    "            survived = 1\n",
    "        else:\n",
    "            # predictions.append(0)\n",
    "            survived = 0\n",
    "\n",
    "        prediction = pd.Series({'PassengerId': pass_id, 'Survived': survived})\n",
    "        predictions.append(prediction)\n",
    "\n",
    "    # Return our predictions\n",
    "    return pd.DataFrame(predictions)\n",
    "\n",
    "# Make the predictions\n",
    "predictions = predictions_3(data)\n",
    "# print(accuracy_score(outcomes, predictions['Survived']))\n",
    "\n",
    "predictions_test = predictions_3(test_data)\n",
    "predictions_test.to_csv('ex01_titanic_predictions.csv', index = False)\n",
    "print(predictions_test.head())\n"
   ]
  },
  {
   "cell_type": "code",
   "execution_count": 26,
   "metadata": {},
   "outputs": [
    {
     "name": "stdout",
     "output_type": "stream",
     "text": [
      "a    0.378222\n",
      "b    0.592559\n",
      "c    0.967784\n",
      "d   -0.794620\n",
      "e    0.015127\n",
      "dtype: float64\n"
     ]
    }
   ],
   "source": [
    "df = pd.Series(np.random.randn(5), index=['a', 'b', 'c', 'd', 'e'])\n",
    "# df['PassengerId'] = 24\n",
    "# df['outcome'] = False\n",
    "print(df.head())"
   ]
  }
 ],
 "metadata": {
  "kernelspec": {
   "display_name": "Python 2",
   "language": "python",
   "name": "python2"
  },
  "language_info": {
   "codemirror_mode": {
    "name": "ipython",
    "version": 2
   },
   "file_extension": ".py",
   "mimetype": "text/x-python",
   "name": "python",
   "nbconvert_exporter": "python",
   "pygments_lexer": "ipython2",
   "version": "2.7.14"
  }
 },
 "nbformat": 4,
 "nbformat_minor": 2
}
