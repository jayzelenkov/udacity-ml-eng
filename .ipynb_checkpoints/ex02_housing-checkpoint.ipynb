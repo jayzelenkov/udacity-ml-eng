{
 "cells": [
  {
   "cell_type": "markdown",
   "metadata": {},
   "source": [
    "# Predicting Boston Housing Prices"
   ]
  },
  {
   "cell_type": "code",
   "execution_count": 2,
   "metadata": {
    "scrolled": true
   },
   "outputs": [
    {
     "name": "stdout",
     "output_type": "stream",
     "text": [
      "Boston housing dataset has 489 data points with 4 vars each\n",
      "105000.0\n",
      "1024800.0\n",
      "454342.944785\n",
      "438900.0\n",
      "165340.277653\n"
     ]
    }
   ],
   "source": [
    "import numpy as np\n",
    "import pandas as pd\n",
    "from sklearn.cross_validation import ShuffleSplit\n",
    "\n",
    "import ex02_visuals as vs\n",
    "\n",
    "# pretty display for notebooks\n",
    "%matplotlib inline\n",
    "\n",
    "data = pd.read_csv('ex02_housing.csv')\n",
    "prices = data['MEDV']\n",
    "features = data.drop('MEDV', axis=1)\n",
    "\n",
    "print(\"Boston housing dataset has {} data points with {} vars each\".format(*data.shape))\n",
    "\n",
    "# features:\n",
    "# RM - average number of rooms among homes in the neighborhood\n",
    "# LSTAT - percentage of homeowners considered \"lower class\"\n",
    "# PTRATIO - ratio of students to teachers in schools\n",
    "\n",
    "print data['MEDV'].min()  # 105000.0\n",
    "print data['MEDV'].max()  # 105000.0\n",
    "print data['MEDV'].mean()  # 105000.0\n",
    "print data['MEDV'].median()  # 105000.0\n",
    "print data['MEDV'].std()  # 105000.0\n"
   ]
  },
  {
   "cell_type": "markdown",
   "metadata": {},
   "source": [
    "## Developing a Model\n",
    "\n",
    "Coefficient of determination (denoted by R<sup>2</sup>) is a key output of regression analysis. It is inpreted as the proportion of the variance in the dependent variable that is predictable from the independent variable.\n",
    "\n",
    "* the coefficient of determination is the square of the correlation (r) between predicted y scores and actual y scores; thus, it ranges from 0 to 1.\n",
    "* with linear regression, the coefficient of determination is also equal to the square of the correlation between x and y scores.\n",
    "* an R<sup>2</sup> of 0 means that the dependent variable cannot be predicted from the independent variable.\n",
    "* an R<sup>2</sup> of 1 means the dependent variable can be predicted without error from the independent variable.\n",
    "* an R<sup>2</sup> between 0 and 1 indicates the extent to which the dependent variable is predictable. An R<sup>2</sup> of 0.10 means that 10 percent of the variance in Y is predictable from X; an R<sup>2</sup> of 0.20 means that 20 percent is predictable; and so on.\n"
   ]
  },
  {
   "cell_type": "code",
   "execution_count": null,
   "metadata": {},
   "outputs": [],
   "source": [
    "from sklearn.metrics import r2_score\n",
    "\n",
    "def performance_metric(y_true, y_predict):\n",
    "    \"\"\" Calculates and returns the performance score between \n",
    "        true and predicted values based on the metric chosen. \"\"\"\n",
    "    \n",
    "    # Calculate the performance score between 'y_true' and 'y_predict'\n",
    "    score = r2_score(y_true, y_predict)\n",
    "    \n",
    "    # Return the score\n",
    "    return score\n"
   ]
  },
  {
   "cell_type": "code",
   "execution_count": null,
   "metadata": {},
   "outputs": [],
   "source": []
  }
 ],
 "metadata": {
  "kernelspec": {
   "display_name": "Python 2",
   "language": "python",
   "name": "python2"
  },
  "language_info": {
   "codemirror_mode": {
    "name": "ipython",
    "version": 2
   },
   "file_extension": ".py",
   "mimetype": "text/x-python",
   "name": "python",
   "nbconvert_exporter": "python",
   "pygments_lexer": "ipython2",
   "version": "2.7.14"
  }
 },
 "nbformat": 4,
 "nbformat_minor": 2
}
